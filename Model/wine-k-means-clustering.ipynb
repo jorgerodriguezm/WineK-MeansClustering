{
 "cells": [
  {
   "cell_type": "markdown",
   "metadata": {
    "papermill": {
     "duration": 0.025508,
     "end_time": "2021-04-21T22:14:09.325503",
     "exception": false,
     "start_time": "2021-04-21T22:14:09.299995",
     "status": "completed"
    },
    "tags": []
   },
   "source": [
    "# Wine K-Means Clustering"
   ]
  },
  {
   "cell_type": "markdown",
   "metadata": {
    "papermill": {
     "duration": 0.020278,
     "end_time": "2021-04-21T22:14:09.368343",
     "exception": false,
     "start_time": "2021-04-21T22:14:09.348065",
     "status": "completed"
    },
    "tags": []
   },
   "source": [
    "![](https://lh3.googleusercontent.com/proxy/tcP2OagZAOEdGKcssJl_o_zwPoLeoheTCTeZhyjZ5FczNDphYiVrwaQ-h3PJ3iZy_Fs1pYHrm-Ndgytjn0Je6YmbBrbasuP5XMWop1zb6eE)"
   ]
  },
  {
   "cell_type": "markdown",
   "metadata": {
    "papermill": {
     "duration": 0.02062,
     "end_time": "2021-04-21T22:14:09.409369",
     "exception": false,
     "start_time": "2021-04-21T22:14:09.388749",
     "status": "completed"
    },
    "tags": []
   },
   "source": [
    "## Problem"
   ]
  },
  {
   "cell_type": "markdown",
   "metadata": {
    "papermill": {
     "duration": 0.022893,
     "end_time": "2021-04-21T22:14:09.455749",
     "exception": false,
     "start_time": "2021-04-21T22:14:09.432856",
     "status": "completed"
    },
    "tags": []
   },
   "source": [
    "In this Kaggle Notebook we would try to answer the following question: **given the diferent attributes of several wines, could we succesfully create clusters of them to extract key information that defines them?**"
   ]
  },
  {
   "cell_type": "markdown",
   "metadata": {
    "papermill": {
     "duration": 0.020899,
     "end_time": "2021-04-21T22:14:09.498102",
     "exception": false,
     "start_time": "2021-04-21T22:14:09.477203",
     "status": "completed"
    },
    "tags": []
   },
   "source": [
    "## Proposed Solution"
   ]
  },
  {
   "cell_type": "markdown",
   "metadata": {
    "papermill": {
     "duration": 0.022129,
     "end_time": "2021-04-21T22:14:09.542229",
     "exception": false,
     "start_time": "2021-04-21T22:14:09.520100",
     "status": "completed"
    },
    "tags": []
   },
   "source": [
    "We would use **K-Means** and **Principal Component Analysis** in order to cluster our different wines in three distinct groups. "
   ]
  },
  {
   "cell_type": "markdown",
   "metadata": {
    "papermill": {
     "duration": 0.022945,
     "end_time": "2021-04-21T22:14:09.587787",
     "exception": false,
     "start_time": "2021-04-21T22:14:09.564842",
     "status": "completed"
    },
    "tags": []
   },
   "source": [
    "## Importing Libraries and Packages"
   ]
  },
  {
   "cell_type": "markdown",
   "metadata": {
    "papermill": {
     "duration": 0.020481,
     "end_time": "2021-04-21T22:14:09.629579",
     "exception": false,
     "start_time": "2021-04-21T22:14:09.609098",
     "status": "completed"
    },
    "tags": []
   },
   "source": [
    "### Visualization\n",
    "\n",
    "* Matplotlib\n",
    "* Seaborn\n",
    "\n",
    "### Data Processing\n",
    "* Numpy\n",
    "* Pandas\n",
    "\n",
    "### Regression\n",
    "* Sklearn"
   ]
  },
  {
   "cell_type": "code",
   "execution_count": 1,
   "metadata": {
    "_cell_guid": "b1076dfc-b9ad-4769-8c92-a6c4dae69d19",
    "_uuid": "8f2839f25d086af736a60e9eeb907d3b93b6e0e5",
    "execution": {
     "iopub.execute_input": "2021-04-21T22:14:09.683422Z",
     "iopub.status.busy": "2021-04-21T22:14:09.682338Z",
     "iopub.status.idle": "2021-04-21T22:14:11.246917Z",
     "shell.execute_reply": "2021-04-21T22:14:11.245714Z"
    },
    "papermill": {
     "duration": 1.596577,
     "end_time": "2021-04-21T22:14:11.247189",
     "exception": false,
     "start_time": "2021-04-21T22:14:09.650612",
     "status": "completed"
    },
    "tags": []
   },
   "outputs": [
    {
     "name": "stdout",
     "output_type": "stream",
     "text": [
      "/kaggle/input/wine-customer-segmentation/Wine.csv\n"
     ]
    }
   ],
   "source": [
    "import numpy as np # linear algebra\n",
    "import pandas as pd # data processing, CSV file I/O (e.g. pd.read_csv)\n",
    "import numpy as np \n",
    "import matplotlib.pyplot as plt \n",
    "from sklearn.cluster import KMeans, k_means\n",
    "import seaborn as sns \n",
    "%matplotlib inline\n",
    "\n",
    "import os\n",
    "for dirname, _, filenames in os.walk('/kaggle/input'):\n",
    "    for filename in filenames:\n",
    "        print(os.path.join(dirname, filename))"
   ]
  },
  {
   "cell_type": "markdown",
   "metadata": {
    "papermill": {
     "duration": 0.020677,
     "end_time": "2021-04-21T22:14:11.291624",
     "exception": false,
     "start_time": "2021-04-21T22:14:11.270947",
     "status": "completed"
    },
    "tags": []
   },
   "source": [
    "## Exploratory Analysis"
   ]
  },
  {
   "cell_type": "markdown",
   "metadata": {
    "papermill": {
     "duration": 0.020546,
     "end_time": "2021-04-21T22:14:11.334481",
     "exception": false,
     "start_time": "2021-04-21T22:14:11.313935",
     "status": "completed"
    },
    "tags": []
   },
   "source": [
    "Importing the data, taking a look a the values we would be working with, and finding whether there are any null values in the dataset."
   ]
  },
  {
   "cell_type": "code",
   "execution_count": 2,
   "metadata": {
    "execution": {
     "iopub.execute_input": "2021-04-21T22:14:11.384041Z",
     "iopub.status.busy": "2021-04-21T22:14:11.383337Z",
     "iopub.status.idle": "2021-04-21T22:14:11.426605Z",
     "shell.execute_reply": "2021-04-21T22:14:11.427185Z"
    },
    "papermill": {
     "duration": 0.071967,
     "end_time": "2021-04-21T22:14:11.427345",
     "exception": false,
     "start_time": "2021-04-21T22:14:11.355378",
     "status": "completed"
    },
    "tags": []
   },
   "outputs": [
    {
     "data": {
      "text/html": [
       "<div>\n",
       "<style scoped>\n",
       "    .dataframe tbody tr th:only-of-type {\n",
       "        vertical-align: middle;\n",
       "    }\n",
       "\n",
       "    .dataframe tbody tr th {\n",
       "        vertical-align: top;\n",
       "    }\n",
       "\n",
       "    .dataframe thead th {\n",
       "        text-align: right;\n",
       "    }\n",
       "</style>\n",
       "<table border=\"1\" class=\"dataframe\">\n",
       "  <thead>\n",
       "    <tr style=\"text-align: right;\">\n",
       "      <th></th>\n",
       "      <th>Alcohol</th>\n",
       "      <th>Malic_Acid</th>\n",
       "      <th>Ash</th>\n",
       "      <th>Ash_Alcanity</th>\n",
       "      <th>Magnesium</th>\n",
       "      <th>Total_Phenols</th>\n",
       "      <th>Flavanoids</th>\n",
       "      <th>Nonflavanoid_Phenols</th>\n",
       "      <th>Proanthocyanins</th>\n",
       "      <th>Color_Intensity</th>\n",
       "      <th>Hue</th>\n",
       "      <th>OD280</th>\n",
       "      <th>Proline</th>\n",
       "      <th>Customer_Segment</th>\n",
       "    </tr>\n",
       "  </thead>\n",
       "  <tbody>\n",
       "    <tr>\n",
       "      <th>0</th>\n",
       "      <td>14.23</td>\n",
       "      <td>1.71</td>\n",
       "      <td>2.43</td>\n",
       "      <td>15.6</td>\n",
       "      <td>127</td>\n",
       "      <td>2.80</td>\n",
       "      <td>3.06</td>\n",
       "      <td>0.28</td>\n",
       "      <td>2.29</td>\n",
       "      <td>5.64</td>\n",
       "      <td>1.04</td>\n",
       "      <td>3.92</td>\n",
       "      <td>1065</td>\n",
       "      <td>1</td>\n",
       "    </tr>\n",
       "    <tr>\n",
       "      <th>1</th>\n",
       "      <td>13.20</td>\n",
       "      <td>1.78</td>\n",
       "      <td>2.14</td>\n",
       "      <td>11.2</td>\n",
       "      <td>100</td>\n",
       "      <td>2.65</td>\n",
       "      <td>2.76</td>\n",
       "      <td>0.26</td>\n",
       "      <td>1.28</td>\n",
       "      <td>4.38</td>\n",
       "      <td>1.05</td>\n",
       "      <td>3.40</td>\n",
       "      <td>1050</td>\n",
       "      <td>1</td>\n",
       "    </tr>\n",
       "    <tr>\n",
       "      <th>2</th>\n",
       "      <td>13.16</td>\n",
       "      <td>2.36</td>\n",
       "      <td>2.67</td>\n",
       "      <td>18.6</td>\n",
       "      <td>101</td>\n",
       "      <td>2.80</td>\n",
       "      <td>3.24</td>\n",
       "      <td>0.30</td>\n",
       "      <td>2.81</td>\n",
       "      <td>5.68</td>\n",
       "      <td>1.03</td>\n",
       "      <td>3.17</td>\n",
       "      <td>1185</td>\n",
       "      <td>1</td>\n",
       "    </tr>\n",
       "    <tr>\n",
       "      <th>3</th>\n",
       "      <td>14.37</td>\n",
       "      <td>1.95</td>\n",
       "      <td>2.50</td>\n",
       "      <td>16.8</td>\n",
       "      <td>113</td>\n",
       "      <td>3.85</td>\n",
       "      <td>3.49</td>\n",
       "      <td>0.24</td>\n",
       "      <td>2.18</td>\n",
       "      <td>7.80</td>\n",
       "      <td>0.86</td>\n",
       "      <td>3.45</td>\n",
       "      <td>1480</td>\n",
       "      <td>1</td>\n",
       "    </tr>\n",
       "    <tr>\n",
       "      <th>4</th>\n",
       "      <td>13.24</td>\n",
       "      <td>2.59</td>\n",
       "      <td>2.87</td>\n",
       "      <td>21.0</td>\n",
       "      <td>118</td>\n",
       "      <td>2.80</td>\n",
       "      <td>2.69</td>\n",
       "      <td>0.39</td>\n",
       "      <td>1.82</td>\n",
       "      <td>4.32</td>\n",
       "      <td>1.04</td>\n",
       "      <td>2.93</td>\n",
       "      <td>735</td>\n",
       "      <td>1</td>\n",
       "    </tr>\n",
       "  </tbody>\n",
       "</table>\n",
       "</div>"
      ],
      "text/plain": [
       "   Alcohol  Malic_Acid   Ash  Ash_Alcanity  Magnesium  Total_Phenols  \\\n",
       "0    14.23        1.71  2.43          15.6        127           2.80   \n",
       "1    13.20        1.78  2.14          11.2        100           2.65   \n",
       "2    13.16        2.36  2.67          18.6        101           2.80   \n",
       "3    14.37        1.95  2.50          16.8        113           3.85   \n",
       "4    13.24        2.59  2.87          21.0        118           2.80   \n",
       "\n",
       "   Flavanoids  Nonflavanoid_Phenols  Proanthocyanins  Color_Intensity   Hue  \\\n",
       "0        3.06                  0.28             2.29             5.64  1.04   \n",
       "1        2.76                  0.26             1.28             4.38  1.05   \n",
       "2        3.24                  0.30             2.81             5.68  1.03   \n",
       "3        3.49                  0.24             2.18             7.80  0.86   \n",
       "4        2.69                  0.39             1.82             4.32  1.04   \n",
       "\n",
       "   OD280  Proline  Customer_Segment  \n",
       "0   3.92     1065                 1  \n",
       "1   3.40     1050                 1  \n",
       "2   3.17     1185                 1  \n",
       "3   3.45     1480                 1  \n",
       "4   2.93      735                 1  "
      ]
     },
     "execution_count": 2,
     "metadata": {},
     "output_type": "execute_result"
    }
   ],
   "source": [
    "df=pd.read_csv('../input/wine-customer-segmentation/Wine.csv')\n",
    "df.head()"
   ]
  },
  {
   "cell_type": "code",
   "execution_count": 3,
   "metadata": {
    "execution": {
     "iopub.execute_input": "2021-04-21T22:14:11.478791Z",
     "iopub.status.busy": "2021-04-21T22:14:11.478046Z",
     "iopub.status.idle": "2021-04-21T22:14:11.495547Z",
     "shell.execute_reply": "2021-04-21T22:14:11.494680Z"
    },
    "papermill": {
     "duration": 0.04404,
     "end_time": "2021-04-21T22:14:11.495686",
     "exception": false,
     "start_time": "2021-04-21T22:14:11.451646",
     "status": "completed"
    },
    "tags": []
   },
   "outputs": [
    {
     "name": "stdout",
     "output_type": "stream",
     "text": [
      "<class 'pandas.core.frame.DataFrame'>\n",
      "RangeIndex: 178 entries, 0 to 177\n",
      "Data columns (total 14 columns):\n",
      " #   Column                Non-Null Count  Dtype  \n",
      "---  ------                --------------  -----  \n",
      " 0   Alcohol               178 non-null    float64\n",
      " 1   Malic_Acid            178 non-null    float64\n",
      " 2   Ash                   178 non-null    float64\n",
      " 3   Ash_Alcanity          178 non-null    float64\n",
      " 4   Magnesium             178 non-null    int64  \n",
      " 5   Total_Phenols         178 non-null    float64\n",
      " 6   Flavanoids            178 non-null    float64\n",
      " 7   Nonflavanoid_Phenols  178 non-null    float64\n",
      " 8   Proanthocyanins       178 non-null    float64\n",
      " 9   Color_Intensity       178 non-null    float64\n",
      " 10  Hue                   178 non-null    float64\n",
      " 11  OD280                 178 non-null    float64\n",
      " 12  Proline               178 non-null    int64  \n",
      " 13  Customer_Segment      178 non-null    int64  \n",
      "dtypes: float64(11), int64(3)\n",
      "memory usage: 19.6 KB\n"
     ]
    }
   ],
   "source": [
    "df.info()"
   ]
  },
  {
   "cell_type": "code",
   "execution_count": 4,
   "metadata": {
    "execution": {
     "iopub.execute_input": "2021-04-21T22:14:11.566622Z",
     "iopub.status.busy": "2021-04-21T22:14:11.565859Z",
     "iopub.status.idle": "2021-04-21T22:14:11.570596Z",
     "shell.execute_reply": "2021-04-21T22:14:11.569927Z"
    },
    "papermill": {
     "duration": 0.051802,
     "end_time": "2021-04-21T22:14:11.570711",
     "exception": false,
     "start_time": "2021-04-21T22:14:11.518909",
     "status": "completed"
    },
    "tags": []
   },
   "outputs": [
    {
     "data": {
      "text/html": [
       "<div>\n",
       "<style scoped>\n",
       "    .dataframe tbody tr th:only-of-type {\n",
       "        vertical-align: middle;\n",
       "    }\n",
       "\n",
       "    .dataframe tbody tr th {\n",
       "        vertical-align: top;\n",
       "    }\n",
       "\n",
       "    .dataframe thead th {\n",
       "        text-align: right;\n",
       "    }\n",
       "</style>\n",
       "<table border=\"1\" class=\"dataframe\">\n",
       "  <thead>\n",
       "    <tr style=\"text-align: right;\">\n",
       "      <th></th>\n",
       "      <th>Alcohol</th>\n",
       "      <th>Malic_Acid</th>\n",
       "      <th>Ash</th>\n",
       "      <th>Ash_Alcanity</th>\n",
       "      <th>Magnesium</th>\n",
       "      <th>Total_Phenols</th>\n",
       "      <th>Flavanoids</th>\n",
       "      <th>Nonflavanoid_Phenols</th>\n",
       "      <th>Proanthocyanins</th>\n",
       "      <th>Color_Intensity</th>\n",
       "      <th>Hue</th>\n",
       "      <th>OD280</th>\n",
       "      <th>Proline</th>\n",
       "    </tr>\n",
       "  </thead>\n",
       "  <tbody>\n",
       "    <tr>\n",
       "      <th>0</th>\n",
       "      <td>14.23</td>\n",
       "      <td>1.71</td>\n",
       "      <td>2.43</td>\n",
       "      <td>15.6</td>\n",
       "      <td>127</td>\n",
       "      <td>2.80</td>\n",
       "      <td>3.06</td>\n",
       "      <td>0.28</td>\n",
       "      <td>2.29</td>\n",
       "      <td>5.64</td>\n",
       "      <td>1.04</td>\n",
       "      <td>3.92</td>\n",
       "      <td>1065</td>\n",
       "    </tr>\n",
       "    <tr>\n",
       "      <th>1</th>\n",
       "      <td>13.20</td>\n",
       "      <td>1.78</td>\n",
       "      <td>2.14</td>\n",
       "      <td>11.2</td>\n",
       "      <td>100</td>\n",
       "      <td>2.65</td>\n",
       "      <td>2.76</td>\n",
       "      <td>0.26</td>\n",
       "      <td>1.28</td>\n",
       "      <td>4.38</td>\n",
       "      <td>1.05</td>\n",
       "      <td>3.40</td>\n",
       "      <td>1050</td>\n",
       "    </tr>\n",
       "    <tr>\n",
       "      <th>2</th>\n",
       "      <td>13.16</td>\n",
       "      <td>2.36</td>\n",
       "      <td>2.67</td>\n",
       "      <td>18.6</td>\n",
       "      <td>101</td>\n",
       "      <td>2.80</td>\n",
       "      <td>3.24</td>\n",
       "      <td>0.30</td>\n",
       "      <td>2.81</td>\n",
       "      <td>5.68</td>\n",
       "      <td>1.03</td>\n",
       "      <td>3.17</td>\n",
       "      <td>1185</td>\n",
       "    </tr>\n",
       "    <tr>\n",
       "      <th>3</th>\n",
       "      <td>14.37</td>\n",
       "      <td>1.95</td>\n",
       "      <td>2.50</td>\n",
       "      <td>16.8</td>\n",
       "      <td>113</td>\n",
       "      <td>3.85</td>\n",
       "      <td>3.49</td>\n",
       "      <td>0.24</td>\n",
       "      <td>2.18</td>\n",
       "      <td>7.80</td>\n",
       "      <td>0.86</td>\n",
       "      <td>3.45</td>\n",
       "      <td>1480</td>\n",
       "    </tr>\n",
       "    <tr>\n",
       "      <th>4</th>\n",
       "      <td>13.24</td>\n",
       "      <td>2.59</td>\n",
       "      <td>2.87</td>\n",
       "      <td>21.0</td>\n",
       "      <td>118</td>\n",
       "      <td>2.80</td>\n",
       "      <td>2.69</td>\n",
       "      <td>0.39</td>\n",
       "      <td>1.82</td>\n",
       "      <td>4.32</td>\n",
       "      <td>1.04</td>\n",
       "      <td>2.93</td>\n",
       "      <td>735</td>\n",
       "    </tr>\n",
       "  </tbody>\n",
       "</table>\n",
       "</div>"
      ],
      "text/plain": [
       "   Alcohol  Malic_Acid   Ash  Ash_Alcanity  Magnesium  Total_Phenols  \\\n",
       "0    14.23        1.71  2.43          15.6        127           2.80   \n",
       "1    13.20        1.78  2.14          11.2        100           2.65   \n",
       "2    13.16        2.36  2.67          18.6        101           2.80   \n",
       "3    14.37        1.95  2.50          16.8        113           3.85   \n",
       "4    13.24        2.59  2.87          21.0        118           2.80   \n",
       "\n",
       "   Flavanoids  Nonflavanoid_Phenols  Proanthocyanins  Color_Intensity   Hue  \\\n",
       "0        3.06                  0.28             2.29             5.64  1.04   \n",
       "1        2.76                  0.26             1.28             4.38  1.05   \n",
       "2        3.24                  0.30             2.81             5.68  1.03   \n",
       "3        3.49                  0.24             2.18             7.80  0.86   \n",
       "4        2.69                  0.39             1.82             4.32  1.04   \n",
       "\n",
       "   OD280  Proline  \n",
       "0   3.92     1065  \n",
       "1   3.40     1050  \n",
       "2   3.17     1185  \n",
       "3   3.45     1480  \n",
       "4   2.93      735  "
      ]
     },
     "execution_count": 4,
     "metadata": {},
     "output_type": "execute_result"
    }
   ],
   "source": [
    "df.drop('Customer_Segment', axis=1, inplace=True)\n",
    "df.head()"
   ]
  },
  {
   "cell_type": "markdown",
   "metadata": {
    "papermill": {
     "duration": 0.023755,
     "end_time": "2021-04-21T22:14:11.618354",
     "exception": false,
     "start_time": "2021-04-21T22:14:11.594599",
     "status": "completed"
    },
    "tags": []
   },
   "source": [
    "Looking at **basic statistical details** about the attributes in our dataset and a pairplot with some of them. "
   ]
  },
  {
   "cell_type": "code",
   "execution_count": 5,
   "metadata": {
    "execution": {
     "iopub.execute_input": "2021-04-21T22:14:11.669337Z",
     "iopub.status.busy": "2021-04-21T22:14:11.668649Z",
     "iopub.status.idle": "2021-04-21T22:14:11.726460Z",
     "shell.execute_reply": "2021-04-21T22:14:11.725901Z"
    },
    "papermill": {
     "duration": 0.084255,
     "end_time": "2021-04-21T22:14:11.726589",
     "exception": false,
     "start_time": "2021-04-21T22:14:11.642334",
     "status": "completed"
    },
    "tags": []
   },
   "outputs": [
    {
     "data": {
      "text/html": [
       "<div>\n",
       "<style scoped>\n",
       "    .dataframe tbody tr th:only-of-type {\n",
       "        vertical-align: middle;\n",
       "    }\n",
       "\n",
       "    .dataframe tbody tr th {\n",
       "        vertical-align: top;\n",
       "    }\n",
       "\n",
       "    .dataframe thead th {\n",
       "        text-align: right;\n",
       "    }\n",
       "</style>\n",
       "<table border=\"1\" class=\"dataframe\">\n",
       "  <thead>\n",
       "    <tr style=\"text-align: right;\">\n",
       "      <th></th>\n",
       "      <th>Alcohol</th>\n",
       "      <th>Malic_Acid</th>\n",
       "      <th>Ash</th>\n",
       "      <th>Ash_Alcanity</th>\n",
       "      <th>Magnesium</th>\n",
       "      <th>Total_Phenols</th>\n",
       "      <th>Flavanoids</th>\n",
       "      <th>Nonflavanoid_Phenols</th>\n",
       "      <th>Proanthocyanins</th>\n",
       "      <th>Color_Intensity</th>\n",
       "      <th>Hue</th>\n",
       "      <th>OD280</th>\n",
       "      <th>Proline</th>\n",
       "    </tr>\n",
       "  </thead>\n",
       "  <tbody>\n",
       "    <tr>\n",
       "      <th>count</th>\n",
       "      <td>178.000000</td>\n",
       "      <td>178.000000</td>\n",
       "      <td>178.000000</td>\n",
       "      <td>178.000000</td>\n",
       "      <td>178.000000</td>\n",
       "      <td>178.000000</td>\n",
       "      <td>178.000000</td>\n",
       "      <td>178.000000</td>\n",
       "      <td>178.000000</td>\n",
       "      <td>178.000000</td>\n",
       "      <td>178.000000</td>\n",
       "      <td>178.000000</td>\n",
       "      <td>178.000000</td>\n",
       "    </tr>\n",
       "    <tr>\n",
       "      <th>mean</th>\n",
       "      <td>13.000618</td>\n",
       "      <td>2.336348</td>\n",
       "      <td>2.366517</td>\n",
       "      <td>19.494944</td>\n",
       "      <td>99.741573</td>\n",
       "      <td>2.295112</td>\n",
       "      <td>2.029270</td>\n",
       "      <td>0.361854</td>\n",
       "      <td>1.590899</td>\n",
       "      <td>5.058090</td>\n",
       "      <td>0.957449</td>\n",
       "      <td>2.611685</td>\n",
       "      <td>746.893258</td>\n",
       "    </tr>\n",
       "    <tr>\n",
       "      <th>std</th>\n",
       "      <td>0.811827</td>\n",
       "      <td>1.117146</td>\n",
       "      <td>0.274344</td>\n",
       "      <td>3.339564</td>\n",
       "      <td>14.282484</td>\n",
       "      <td>0.625851</td>\n",
       "      <td>0.998859</td>\n",
       "      <td>0.124453</td>\n",
       "      <td>0.572359</td>\n",
       "      <td>2.318286</td>\n",
       "      <td>0.228572</td>\n",
       "      <td>0.709990</td>\n",
       "      <td>314.907474</td>\n",
       "    </tr>\n",
       "    <tr>\n",
       "      <th>min</th>\n",
       "      <td>11.030000</td>\n",
       "      <td>0.740000</td>\n",
       "      <td>1.360000</td>\n",
       "      <td>10.600000</td>\n",
       "      <td>70.000000</td>\n",
       "      <td>0.980000</td>\n",
       "      <td>0.340000</td>\n",
       "      <td>0.130000</td>\n",
       "      <td>0.410000</td>\n",
       "      <td>1.280000</td>\n",
       "      <td>0.480000</td>\n",
       "      <td>1.270000</td>\n",
       "      <td>278.000000</td>\n",
       "    </tr>\n",
       "    <tr>\n",
       "      <th>25%</th>\n",
       "      <td>12.362500</td>\n",
       "      <td>1.602500</td>\n",
       "      <td>2.210000</td>\n",
       "      <td>17.200000</td>\n",
       "      <td>88.000000</td>\n",
       "      <td>1.742500</td>\n",
       "      <td>1.205000</td>\n",
       "      <td>0.270000</td>\n",
       "      <td>1.250000</td>\n",
       "      <td>3.220000</td>\n",
       "      <td>0.782500</td>\n",
       "      <td>1.937500</td>\n",
       "      <td>500.500000</td>\n",
       "    </tr>\n",
       "    <tr>\n",
       "      <th>50%</th>\n",
       "      <td>13.050000</td>\n",
       "      <td>1.865000</td>\n",
       "      <td>2.360000</td>\n",
       "      <td>19.500000</td>\n",
       "      <td>98.000000</td>\n",
       "      <td>2.355000</td>\n",
       "      <td>2.135000</td>\n",
       "      <td>0.340000</td>\n",
       "      <td>1.555000</td>\n",
       "      <td>4.690000</td>\n",
       "      <td>0.965000</td>\n",
       "      <td>2.780000</td>\n",
       "      <td>673.500000</td>\n",
       "    </tr>\n",
       "    <tr>\n",
       "      <th>75%</th>\n",
       "      <td>13.677500</td>\n",
       "      <td>3.082500</td>\n",
       "      <td>2.557500</td>\n",
       "      <td>21.500000</td>\n",
       "      <td>107.000000</td>\n",
       "      <td>2.800000</td>\n",
       "      <td>2.875000</td>\n",
       "      <td>0.437500</td>\n",
       "      <td>1.950000</td>\n",
       "      <td>6.200000</td>\n",
       "      <td>1.120000</td>\n",
       "      <td>3.170000</td>\n",
       "      <td>985.000000</td>\n",
       "    </tr>\n",
       "    <tr>\n",
       "      <th>max</th>\n",
       "      <td>14.830000</td>\n",
       "      <td>5.800000</td>\n",
       "      <td>3.230000</td>\n",
       "      <td>30.000000</td>\n",
       "      <td>162.000000</td>\n",
       "      <td>3.880000</td>\n",
       "      <td>5.080000</td>\n",
       "      <td>0.660000</td>\n",
       "      <td>3.580000</td>\n",
       "      <td>13.000000</td>\n",
       "      <td>1.710000</td>\n",
       "      <td>4.000000</td>\n",
       "      <td>1680.000000</td>\n",
       "    </tr>\n",
       "  </tbody>\n",
       "</table>\n",
       "</div>"
      ],
      "text/plain": [
       "          Alcohol  Malic_Acid         Ash  Ash_Alcanity   Magnesium  \\\n",
       "count  178.000000  178.000000  178.000000    178.000000  178.000000   \n",
       "mean    13.000618    2.336348    2.366517     19.494944   99.741573   \n",
       "std      0.811827    1.117146    0.274344      3.339564   14.282484   \n",
       "min     11.030000    0.740000    1.360000     10.600000   70.000000   \n",
       "25%     12.362500    1.602500    2.210000     17.200000   88.000000   \n",
       "50%     13.050000    1.865000    2.360000     19.500000   98.000000   \n",
       "75%     13.677500    3.082500    2.557500     21.500000  107.000000   \n",
       "max     14.830000    5.800000    3.230000     30.000000  162.000000   \n",
       "\n",
       "       Total_Phenols  Flavanoids  Nonflavanoid_Phenols  Proanthocyanins  \\\n",
       "count     178.000000  178.000000            178.000000       178.000000   \n",
       "mean        2.295112    2.029270              0.361854         1.590899   \n",
       "std         0.625851    0.998859              0.124453         0.572359   \n",
       "min         0.980000    0.340000              0.130000         0.410000   \n",
       "25%         1.742500    1.205000              0.270000         1.250000   \n",
       "50%         2.355000    2.135000              0.340000         1.555000   \n",
       "75%         2.800000    2.875000              0.437500         1.950000   \n",
       "max         3.880000    5.080000              0.660000         3.580000   \n",
       "\n",
       "       Color_Intensity         Hue       OD280      Proline  \n",
       "count       178.000000  178.000000  178.000000   178.000000  \n",
       "mean          5.058090    0.957449    2.611685   746.893258  \n",
       "std           2.318286    0.228572    0.709990   314.907474  \n",
       "min           1.280000    0.480000    1.270000   278.000000  \n",
       "25%           3.220000    0.782500    1.937500   500.500000  \n",
       "50%           4.690000    0.965000    2.780000   673.500000  \n",
       "75%           6.200000    1.120000    3.170000   985.000000  \n",
       "max          13.000000    1.710000    4.000000  1680.000000  "
      ]
     },
     "execution_count": 5,
     "metadata": {},
     "output_type": "execute_result"
    }
   ],
   "source": [
    "df.describe()"
   ]
  },
  {
   "cell_type": "code",
   "execution_count": 6,
   "metadata": {
    "execution": {
     "iopub.execute_input": "2021-04-21T22:14:11.786357Z",
     "iopub.status.busy": "2021-04-21T22:14:11.785689Z",
     "iopub.status.idle": "2021-04-21T22:14:19.069852Z",
     "shell.execute_reply": "2021-04-21T22:14:19.070419Z"
    },
    "papermill": {
     "duration": 7.31711,
     "end_time": "2021-04-21T22:14:19.070571",
     "exception": false,
     "start_time": "2021-04-21T22:14:11.753461",
     "status": "completed"
    },
    "tags": []
   },
   "outputs": [
    {
     "data": {
      "text/plain": [
       "<seaborn.axisgrid.PairGrid at 0x7f50213e1590>"
      ]
     },
     "execution_count": 6,
     "metadata": {},
     "output_type": "execute_result"
    },
    {
     "data": {
      "image/png": "[encoded data removed]",
      "text/plain": [
       "<Figure size 900x900 with 30 Axes>"
      ]
     },
     "metadata": {
      "needs_background": "light"
     },
     "output_type": "display_data"
    }
   ],
   "source": [
    "dfPair=df[['Alcohol','Ash','Flavanoids','Color_Intensity','Hue']]\n",
    "sns.pairplot(dfPair)"
   ]
  },
  {
   "cell_type": "markdown",
   "metadata": {
    "papermill": {
     "duration": 0.030855,
     "end_time": "2021-04-21T22:14:19.133058",
     "exception": false,
     "start_time": "2021-04-21T22:14:19.102203",
     "status": "completed"
    },
    "tags": []
   },
   "source": [
    "## Modeling"
   ]
  },
  {
   "cell_type": "markdown",
   "metadata": {
    "papermill": {
     "duration": 0.028712,
     "end_time": "2021-04-21T22:14:19.194508",
     "exception": false,
     "start_time": "2021-04-21T22:14:19.165796",
     "status": "completed"
    },
    "tags": []
   },
   "source": [
    "**Normalizing our data of independent variables** with the StandardScaler function of Sklearn"
   ]
  },
  {
   "cell_type": "code",
   "execution_count": 7,
   "metadata": {
    "execution": {
     "iopub.execute_input": "2021-04-21T22:14:19.258949Z",
     "iopub.status.busy": "2021-04-21T22:14:19.257988Z",
     "iopub.status.idle": "2021-04-21T22:14:19.262462Z",
     "shell.execute_reply": "2021-04-21T22:14:19.263233Z"
    },
    "papermill": {
     "duration": 0.040464,
     "end_time": "2021-04-21T22:14:19.263441",
     "exception": false,
     "start_time": "2021-04-21T22:14:19.222977",
     "status": "completed"
    },
    "tags": []
   },
   "outputs": [],
   "source": [
    "from sklearn.preprocessing import StandardScaler\n",
    "x = df.values[:,1:]\n",
    "x = np.nan_to_num(x)\n",
    "clust = StandardScaler().fit_transform(x)"
   ]
  },
  {
   "cell_type": "code",
   "execution_count": 8,
   "metadata": {
    "execution": {
     "iopub.execute_input": "2021-04-21T22:14:19.332576Z",
     "iopub.status.busy": "2021-04-21T22:14:19.331599Z",
     "iopub.status.idle": "2021-04-21T22:14:19.348360Z",
     "shell.execute_reply": "2021-04-21T22:14:19.349131Z"
    },
    "papermill": {
     "duration": 0.053573,
     "end_time": "2021-04-21T22:14:19.349312",
     "exception": false,
     "start_time": "2021-04-21T22:14:19.295739",
     "status": "completed"
    },
    "tags": []
   },
   "outputs": [
    {
     "data": {
      "text/html": [
       "<div>\n",
       "<style scoped>\n",
       "    .dataframe tbody tr th:only-of-type {\n",
       "        vertical-align: middle;\n",
       "    }\n",
       "\n",
       "    .dataframe tbody tr th {\n",
       "        vertical-align: top;\n",
       "    }\n",
       "\n",
       "    .dataframe thead th {\n",
       "        text-align: right;\n",
       "    }\n",
       "</style>\n",
       "<table border=\"1\" class=\"dataframe\">\n",
       "  <thead>\n",
       "    <tr style=\"text-align: right;\">\n",
       "      <th></th>\n",
       "      <th>0</th>\n",
       "      <th>1</th>\n",
       "      <th>2</th>\n",
       "      <th>3</th>\n",
       "      <th>4</th>\n",
       "      <th>5</th>\n",
       "      <th>6</th>\n",
       "      <th>7</th>\n",
       "      <th>8</th>\n",
       "      <th>9</th>\n",
       "      <th>10</th>\n",
       "      <th>11</th>\n",
       "    </tr>\n",
       "  </thead>\n",
       "  <tbody>\n",
       "    <tr>\n",
       "      <th>0</th>\n",
       "      <td>-0.562250</td>\n",
       "      <td>0.232053</td>\n",
       "      <td>-1.169593</td>\n",
       "      <td>1.913905</td>\n",
       "      <td>0.808997</td>\n",
       "      <td>1.034819</td>\n",
       "      <td>-0.659563</td>\n",
       "      <td>1.224884</td>\n",
       "      <td>0.251717</td>\n",
       "      <td>0.362177</td>\n",
       "      <td>1.847920</td>\n",
       "      <td>1.013009</td>\n",
       "    </tr>\n",
       "    <tr>\n",
       "      <th>1</th>\n",
       "      <td>-0.499413</td>\n",
       "      <td>-0.827996</td>\n",
       "      <td>-2.490847</td>\n",
       "      <td>0.018145</td>\n",
       "      <td>0.568648</td>\n",
       "      <td>0.733629</td>\n",
       "      <td>-0.820719</td>\n",
       "      <td>-0.544721</td>\n",
       "      <td>-0.293321</td>\n",
       "      <td>0.406051</td>\n",
       "      <td>1.113449</td>\n",
       "      <td>0.965242</td>\n",
       "    </tr>\n",
       "    <tr>\n",
       "      <th>2</th>\n",
       "      <td>0.021231</td>\n",
       "      <td>1.109334</td>\n",
       "      <td>-0.268738</td>\n",
       "      <td>0.088358</td>\n",
       "      <td>0.808997</td>\n",
       "      <td>1.215533</td>\n",
       "      <td>-0.498407</td>\n",
       "      <td>2.135968</td>\n",
       "      <td>0.269020</td>\n",
       "      <td>0.318304</td>\n",
       "      <td>0.788587</td>\n",
       "      <td>1.395148</td>\n",
       "    </tr>\n",
       "    <tr>\n",
       "      <th>3</th>\n",
       "      <td>-0.346811</td>\n",
       "      <td>0.487926</td>\n",
       "      <td>-0.809251</td>\n",
       "      <td>0.930918</td>\n",
       "      <td>2.491446</td>\n",
       "      <td>1.466525</td>\n",
       "      <td>-0.981875</td>\n",
       "      <td>1.032155</td>\n",
       "      <td>1.186068</td>\n",
       "      <td>-0.427544</td>\n",
       "      <td>1.184071</td>\n",
       "      <td>2.334574</td>\n",
       "    </tr>\n",
       "    <tr>\n",
       "      <th>4</th>\n",
       "      <td>0.227694</td>\n",
       "      <td>1.840403</td>\n",
       "      <td>0.451946</td>\n",
       "      <td>1.281985</td>\n",
       "      <td>0.808997</td>\n",
       "      <td>0.663351</td>\n",
       "      <td>0.226796</td>\n",
       "      <td>0.401404</td>\n",
       "      <td>-0.319276</td>\n",
       "      <td>0.362177</td>\n",
       "      <td>0.449601</td>\n",
       "      <td>-0.037874</td>\n",
       "    </tr>\n",
       "  </tbody>\n",
       "</table>\n",
       "</div>"
      ],
      "text/plain": [
       "         0         1         2         3         4         5         6   \\\n",
       "0 -0.562250  0.232053 -1.169593  1.913905  0.808997  1.034819 -0.659563   \n",
       "1 -0.499413 -0.827996 -2.490847  0.018145  0.568648  0.733629 -0.820719   \n",
       "2  0.021231  1.109334 -0.268738  0.088358  0.808997  1.215533 -0.498407   \n",
       "3 -0.346811  0.487926 -0.809251  0.930918  2.491446  1.466525 -0.981875   \n",
       "4  0.227694  1.840403  0.451946  1.281985  0.808997  0.663351  0.226796   \n",
       "\n",
       "         7         8         9         10        11  \n",
       "0  1.224884  0.251717  0.362177  1.847920  1.013009  \n",
       "1 -0.544721 -0.293321  0.406051  1.113449  0.965242  \n",
       "2  2.135968  0.269020  0.318304  0.788587  1.395148  \n",
       "3  1.032155  1.186068 -0.427544  1.184071  2.334574  \n",
       "4  0.401404 -0.319276  0.362177  0.449601 -0.037874  "
      ]
     },
     "execution_count": 8,
     "metadata": {},
     "output_type": "execute_result"
    }
   ],
   "source": [
    "clustdf = pd.DataFrame(clust)\n",
    "clustdf.head()"
   ]
  },
  {
   "cell_type": "code",
   "execution_count": 9,
   "metadata": {
    "execution": {
     "iopub.execute_input": "2021-04-21T22:14:19.417382Z",
     "iopub.status.busy": "2021-04-21T22:14:19.416706Z",
     "iopub.status.idle": "2021-04-21T22:14:19.425813Z",
     "shell.execute_reply": "2021-04-21T22:14:19.425046Z"
    },
    "papermill": {
     "duration": 0.044609,
     "end_time": "2021-04-21T22:14:19.426054",
     "exception": false,
     "start_time": "2021-04-21T22:14:19.381445",
     "status": "completed"
    },
    "tags": []
   },
   "outputs": [
    {
     "data": {
      "text/plain": [
       "array([[-0.5622498 ,  0.23205254, -1.16959318, ...,  0.36217728,\n",
       "         1.84791957,  1.01300893],\n",
       "       [-0.49941338, -0.82799632, -2.49084714, ...,  0.40605066,\n",
       "         1.1134493 ,  0.96524152],\n",
       "       [ 0.02123125,  1.10933436, -0.2687382 , ...,  0.31830389,\n",
       "         0.78858745,  1.39514818],\n",
       "       ...,\n",
       "       [ 1.74474449, -0.38935541,  0.15166079, ..., -1.61212515,\n",
       "        -1.48544548,  0.28057537],\n",
       "       [ 0.22769377,  0.01273209,  0.15166079, ..., -1.56825176,\n",
       "        -1.40069891,  0.29649784],\n",
       "       [ 1.58316512,  1.36520822,  1.50294326, ..., -1.52437837,\n",
       "        -1.42894777, -0.59516041]])"
      ]
     },
     "execution_count": 9,
     "metadata": {},
     "output_type": "execute_result"
    }
   ],
   "source": [
    "x_train=clustdf.values\n",
    "x_train\n"
   ]
  },
  {
   "cell_type": "code",
   "execution_count": 10,
   "metadata": {
    "execution": {
     "iopub.execute_input": "2021-04-21T22:14:19.527735Z",
     "iopub.status.busy": "2021-04-21T22:14:19.526722Z",
     "iopub.status.idle": "2021-04-21T22:14:19.546851Z",
     "shell.execute_reply": "2021-04-21T22:14:19.546257Z"
    },
    "papermill": {
     "duration": 0.089484,
     "end_time": "2021-04-21T22:14:19.546979",
     "exception": false,
     "start_time": "2021-04-21T22:14:19.457495",
     "status": "completed"
    },
    "tags": []
   },
   "outputs": [
    {
     "name": "stdout",
     "output_type": "stream",
     "text": [
      "The Total Variance is: 12.067796610169497\n",
      "95% Variance: 11.46440677966102\n"
     ]
    }
   ],
   "source": [
    "from sklearn.decomposition import PCA\n",
    "n_comps=x_train.shape[1]\n",
    "\n",
    "pca=PCA(n_components=n_comps, random_state=684)\n",
    "X_r=pca.fit(x_train).transform(x_train)\n",
    "\n",
    "total_variance=sum(pca.explained_variance_)\n",
    "print('The Total Variance is:',total_variance)\n",
    "var95=total_variance*0.95\n",
    "print('95% Variance:',var95)\n",
    "\n",
    "compsVar=zip(range(0,n_comps),pca.explained_variance_)\n",
    "compsVar=pd.DataFrame(compsVar,columns=[\"PCA Comp\",\"Explained Variance\"])\n"
   ]
  },
  {
   "cell_type": "markdown",
   "metadata": {
    "papermill": {
     "duration": 0.030185,
     "end_time": "2021-04-21T22:14:19.608388",
     "exception": false,
     "start_time": "2021-04-21T22:14:19.578203",
     "status": "completed"
    },
    "tags": []
   },
   "source": [
    "As we are striving for **95% explained variance**, we select the closer numbers of components that would take us 11.46. In our case, **7 components would do just right**."
   ]
  },
  {
   "cell_type": "code",
   "execution_count": 11,
   "metadata": {
    "execution": {
     "iopub.execute_input": "2021-04-21T22:14:19.687977Z",
     "iopub.status.busy": "2021-04-21T22:14:19.687040Z",
     "iopub.status.idle": "2021-04-21T22:14:19.692227Z",
     "shell.execute_reply": "2021-04-21T22:14:19.691586Z"
    },
    "papermill": {
     "duration": 0.053198,
     "end_time": "2021-04-21T22:14:19.692349",
     "exception": false,
     "start_time": "2021-04-21T22:14:19.639151",
     "status": "completed"
    },
    "tags": []
   },
   "outputs": [
    {
     "data": {
      "text/html": [
       "<div>\n",
       "<style scoped>\n",
       "    .dataframe tbody tr th:only-of-type {\n",
       "        vertical-align: middle;\n",
       "    }\n",
       "\n",
       "    .dataframe tbody tr th {\n",
       "        vertical-align: top;\n",
       "    }\n",
       "\n",
       "    .dataframe thead th {\n",
       "        text-align: right;\n",
       "    }\n",
       "</style>\n",
       "<table border=\"1\" class=\"dataframe\">\n",
       "  <thead>\n",
       "    <tr style=\"text-align: right;\">\n",
       "      <th></th>\n",
       "      <th>PCA Comp</th>\n",
       "      <th>Explained Variance</th>\n",
       "      <th>Accumulative Explained Variance</th>\n",
       "    </tr>\n",
       "  </thead>\n",
       "  <tbody>\n",
       "    <tr>\n",
       "      <th>0</th>\n",
       "      <td>0</td>\n",
       "      <td>4.659656</td>\n",
       "      <td>4.659656</td>\n",
       "    </tr>\n",
       "    <tr>\n",
       "      <th>1</th>\n",
       "      <td>1</td>\n",
       "      <td>2.037184</td>\n",
       "      <td>6.696840</td>\n",
       "    </tr>\n",
       "    <tr>\n",
       "      <th>2</th>\n",
       "      <td>2</td>\n",
       "      <td>1.372900</td>\n",
       "      <td>8.069739</td>\n",
       "    </tr>\n",
       "    <tr>\n",
       "      <th>3</th>\n",
       "      <td>3</td>\n",
       "      <td>0.924000</td>\n",
       "      <td>8.993740</td>\n",
       "    </tr>\n",
       "    <tr>\n",
       "      <th>4</th>\n",
       "      <td>4</td>\n",
       "      <td>0.800858</td>\n",
       "      <td>9.794598</td>\n",
       "    </tr>\n",
       "    <tr>\n",
       "      <th>5</th>\n",
       "      <td>5</td>\n",
       "      <td>0.612802</td>\n",
       "      <td>10.407400</td>\n",
       "    </tr>\n",
       "    <tr>\n",
       "      <th>6</th>\n",
       "      <td>6</td>\n",
       "      <td>0.551821</td>\n",
       "      <td>10.959221</td>\n",
       "    </tr>\n",
       "    <tr>\n",
       "      <th>7</th>\n",
       "      <td>7</td>\n",
       "      <td>0.329921</td>\n",
       "      <td>11.289142</td>\n",
       "    </tr>\n",
       "    <tr>\n",
       "      <th>8</th>\n",
       "      <td>8</td>\n",
       "      <td>0.258175</td>\n",
       "      <td>11.547317</td>\n",
       "    </tr>\n",
       "    <tr>\n",
       "      <th>9</th>\n",
       "      <td>9</td>\n",
       "      <td>0.233789</td>\n",
       "      <td>11.781105</td>\n",
       "    </tr>\n",
       "    <tr>\n",
       "      <th>10</th>\n",
       "      <td>10</td>\n",
       "      <td>0.182675</td>\n",
       "      <td>11.963780</td>\n",
       "    </tr>\n",
       "    <tr>\n",
       "      <th>11</th>\n",
       "      <td>11</td>\n",
       "      <td>0.104016</td>\n",
       "      <td>12.067797</td>\n",
       "    </tr>\n",
       "  </tbody>\n",
       "</table>\n",
       "</div>"
      ],
      "text/plain": [
       "    PCA Comp  Explained Variance  Accumulative Explained Variance\n",
       "0          0            4.659656                         4.659656\n",
       "1          1            2.037184                         6.696840\n",
       "2          2            1.372900                         8.069739\n",
       "3          3            0.924000                         8.993740\n",
       "4          4            0.800858                         9.794598\n",
       "5          5            0.612802                        10.407400\n",
       "6          6            0.551821                        10.959221\n",
       "7          7            0.329921                        11.289142\n",
       "8          8            0.258175                        11.547317\n",
       "9          9            0.233789                        11.781105\n",
       "10        10            0.182675                        11.963780\n",
       "11        11            0.104016                        12.067797"
      ]
     },
     "execution_count": 11,
     "metadata": {},
     "output_type": "execute_result"
    }
   ],
   "source": [
    "aev=[]\n",
    "for i in range(0,12):\n",
    "    if i<1:\n",
    "        aev.append(compsVar['Explained Variance'][0])    \n",
    "    else:\n",
    "        aev.append(sum(compsVar['Explained Variance'][0:i+1]))      \n",
    "        \n",
    "compsVar['Accumulative Explained Variance']=aev\n",
    "compsVar"
   ]
  },
  {
   "cell_type": "markdown",
   "metadata": {
    "papermill": {
     "duration": 0.031951,
     "end_time": "2021-04-21T22:14:19.757135",
     "exception": false,
     "start_time": "2021-04-21T22:14:19.725184",
     "status": "completed"
    },
    "tags": []
   },
   "source": [
    "Calculating the **inertia scores** for different numbers of clusters"
   ]
  },
  {
   "cell_type": "code",
   "execution_count": 12,
   "metadata": {
    "execution": {
     "iopub.execute_input": "2021-04-21T22:14:19.839646Z",
     "iopub.status.busy": "2021-04-21T22:14:19.831006Z",
     "iopub.status.idle": "2021-04-21T22:14:22.349612Z",
     "shell.execute_reply": "2021-04-21T22:14:22.349030Z"
    },
    "papermill": {
     "duration": 2.560905,
     "end_time": "2021-04-21T22:14:22.349743",
     "exception": false,
     "start_time": "2021-04-21T22:14:19.788838",
     "status": "completed"
    },
    "tags": []
   },
   "outputs": [],
   "source": [
    "pca=PCA(n_components=7, random_state=684)\n",
    "X_r=pca.fit(x_train).transform(x_train)\n",
    "\n",
    "some_clusts=[]\n",
    "for r in range(2,30):\n",
    "    some_clusts.append(r)\n",
    "\n",
    "inertia=[]\n",
    "f=[]\n",
    "for f in some_clusts:\n",
    "    kmeans=KMeans(n_clusters=f,random_state=21)\n",
    "    kmeans=kmeans.fit(X_r)\n",
    "    i=kmeans.inertia_\n",
    "    inertia.append(i)"
   ]
  },
  {
   "cell_type": "code",
   "execution_count": 13,
   "metadata": {
    "execution": {
     "iopub.execute_input": "2021-04-21T22:14:22.427899Z",
     "iopub.status.busy": "2021-04-21T22:14:22.426652Z",
     "iopub.status.idle": "2021-04-21T22:14:22.431782Z",
     "shell.execute_reply": "2021-04-21T22:14:22.431077Z"
    },
    "papermill": {
     "duration": 0.0486,
     "end_time": "2021-04-21T22:14:22.431901",
     "exception": false,
     "start_time": "2021-04-21T22:14:22.383301",
     "status": "completed"
    },
    "tags": []
   },
   "outputs": [
    {
     "data": {
      "text/html": [
       "<div>\n",
       "<style scoped>\n",
       "    .dataframe tbody tr th:only-of-type {\n",
       "        vertical-align: middle;\n",
       "    }\n",
       "\n",
       "    .dataframe tbody tr th {\n",
       "        vertical-align: top;\n",
       "    }\n",
       "\n",
       "    .dataframe thead th {\n",
       "        text-align: right;\n",
       "    }\n",
       "</style>\n",
       "<table border=\"1\" class=\"dataframe\">\n",
       "  <thead>\n",
       "    <tr style=\"text-align: right;\">\n",
       "      <th></th>\n",
       "      <th>Clusters</th>\n",
       "      <th>Inertia Scores</th>\n",
       "    </tr>\n",
       "  </thead>\n",
       "  <tbody>\n",
       "    <tr>\n",
       "      <th>0</th>\n",
       "      <td>2</td>\n",
       "      <td>1285.537304</td>\n",
       "    </tr>\n",
       "    <tr>\n",
       "      <th>1</th>\n",
       "      <td>3</td>\n",
       "      <td>992.360075</td>\n",
       "    </tr>\n",
       "    <tr>\n",
       "      <th>2</th>\n",
       "      <td>4</td>\n",
       "      <td>908.560270</td>\n",
       "    </tr>\n",
       "    <tr>\n",
       "      <th>3</th>\n",
       "      <td>5</td>\n",
       "      <td>839.830776</td>\n",
       "    </tr>\n",
       "    <tr>\n",
       "      <th>4</th>\n",
       "      <td>6</td>\n",
       "      <td>792.184551</td>\n",
       "    </tr>\n",
       "  </tbody>\n",
       "</table>\n",
       "</div>"
      ],
      "text/plain": [
       "   Clusters  Inertia Scores\n",
       "0         2     1285.537304\n",
       "1         3      992.360075\n",
       "2         4      908.560270\n",
       "3         5      839.830776\n",
       "4         6      792.184551"
      ]
     },
     "execution_count": 13,
     "metadata": {},
     "output_type": "execute_result"
    }
   ],
   "source": [
    "inertiaClust=zip(some_clusts,inertia)\n",
    "inertiaClust=pd.DataFrame(inertiaClust,columns=[\"Clusters\",\"Inertia Scores\"])\n",
    "inertiaClust.head()"
   ]
  },
  {
   "cell_type": "markdown",
   "metadata": {
    "papermill": {
     "duration": 0.032058,
     "end_time": "2021-04-21T22:14:22.495667",
     "exception": false,
     "start_time": "2021-04-21T22:14:22.463609",
     "status": "completed"
    },
    "tags": []
   },
   "source": [
    "Now, we are plotting the inertia score each numbers of clusters have. As we can see, **the changes in inertia slows down when the number of clusters equals to three**. Which will be the quantity of clusters to be used from this point onwards. "
   ]
  },
  {
   "cell_type": "code",
   "execution_count": 14,
   "metadata": {
    "execution": {
     "iopub.execute_input": "2021-04-21T22:14:22.573619Z",
     "iopub.status.busy": "2021-04-21T22:14:22.568824Z",
     "iopub.status.idle": "2021-04-21T22:14:22.827961Z",
     "shell.execute_reply": "2021-04-21T22:14:22.827212Z"
    },
    "papermill": {
     "duration": 0.29948,
     "end_time": "2021-04-21T22:14:22.828084",
     "exception": false,
     "start_time": "2021-04-21T22:14:22.528604",
     "status": "completed"
    },
    "tags": []
   },
   "outputs": [
    {
     "data": {
      "text/plain": [
       "Text(0.5, 1.0, 'Inertia Score per Cluster')"
      ]
     },
     "execution_count": 14,
     "metadata": {},
     "output_type": "execute_result"
    },
    {
     "data": {
      "image/png": "[encoded data removed]",
      "text/plain": [
       "<Figure size 1296x576 with 1 Axes>"
      ]
     },
     "metadata": {
      "needs_background": "light"
     },
     "output_type": "display_data"
    }
   ],
   "source": [
    "fig,(ax1)=plt.subplots(1,figsize=(18,8))\n",
    "xx=np.arange(len(some_clusts))\n",
    "ax1.plot(xx,inertia)\n",
    "ax1.set_xticks(xx)\n",
    "ax1.set_xticklabels(some_clusts)\n",
    "ax1.grid(True)\n",
    "ax1.set_facecolor('whitesmoke')\n",
    "plt.xlabel('Number of Clusters')\n",
    "plt.ylabel('Inertia Score')\n",
    "plt.title('Inertia Score per Cluster')"
   ]
  },
  {
   "cell_type": "markdown",
   "metadata": {
    "papermill": {
     "duration": 0.035331,
     "end_time": "2021-04-21T22:14:22.897513",
     "exception": false,
     "start_time": "2021-04-21T22:14:22.862182",
     "status": "completed"
    },
    "tags": []
   },
   "source": [
    "Now, it's time to cluster our wines."
   ]
  },
  {
   "cell_type": "code",
   "execution_count": 15,
   "metadata": {
    "execution": {
     "iopub.execute_input": "2021-04-21T22:14:22.974496Z",
     "iopub.status.busy": "2021-04-21T22:14:22.973345Z",
     "iopub.status.idle": "2021-04-21T22:14:23.028930Z",
     "shell.execute_reply": "2021-04-21T22:14:23.028190Z"
    },
    "papermill": {
     "duration": 0.097144,
     "end_time": "2021-04-21T22:14:23.029050",
     "exception": false,
     "start_time": "2021-04-21T22:14:22.931906",
     "status": "completed"
    },
    "tags": []
   },
   "outputs": [
    {
     "data": {
      "text/html": [
       "<div>\n",
       "<style scoped>\n",
       "    .dataframe tbody tr th:only-of-type {\n",
       "        vertical-align: middle;\n",
       "    }\n",
       "\n",
       "    .dataframe tbody tr th {\n",
       "        vertical-align: top;\n",
       "    }\n",
       "\n",
       "    .dataframe thead th {\n",
       "        text-align: right;\n",
       "    }\n",
       "</style>\n",
       "<table border=\"1\" class=\"dataframe\">\n",
       "  <thead>\n",
       "    <tr style=\"text-align: right;\">\n",
       "      <th></th>\n",
       "      <th>Alcohol</th>\n",
       "      <th>Malic_Acid</th>\n",
       "      <th>Ash</th>\n",
       "      <th>Ash_Alcanity</th>\n",
       "      <th>Magnesium</th>\n",
       "      <th>Total_Phenols</th>\n",
       "      <th>Flavanoids</th>\n",
       "      <th>Nonflavanoid_Phenols</th>\n",
       "      <th>Proanthocyanins</th>\n",
       "      <th>Color_Intensity</th>\n",
       "      <th>Hue</th>\n",
       "      <th>OD280</th>\n",
       "      <th>Proline</th>\n",
       "      <th>Cluster</th>\n",
       "    </tr>\n",
       "  </thead>\n",
       "  <tbody>\n",
       "    <tr>\n",
       "      <th>116</th>\n",
       "      <td>11.82</td>\n",
       "      <td>1.47</td>\n",
       "      <td>1.99</td>\n",
       "      <td>20.8</td>\n",
       "      <td>86</td>\n",
       "      <td>1.98</td>\n",
       "      <td>1.60</td>\n",
       "      <td>0.30</td>\n",
       "      <td>1.53</td>\n",
       "      <td>1.95</td>\n",
       "      <td>0.95</td>\n",
       "      <td>3.33</td>\n",
       "      <td>495</td>\n",
       "      <td>2</td>\n",
       "    </tr>\n",
       "    <tr>\n",
       "      <th>121</th>\n",
       "      <td>11.56</td>\n",
       "      <td>2.05</td>\n",
       "      <td>3.23</td>\n",
       "      <td>28.5</td>\n",
       "      <td>119</td>\n",
       "      <td>3.18</td>\n",
       "      <td>5.08</td>\n",
       "      <td>0.47</td>\n",
       "      <td>1.87</td>\n",
       "      <td>6.00</td>\n",
       "      <td>0.93</td>\n",
       "      <td>3.69</td>\n",
       "      <td>465</td>\n",
       "      <td>0</td>\n",
       "    </tr>\n",
       "    <tr>\n",
       "      <th>84</th>\n",
       "      <td>11.84</td>\n",
       "      <td>0.89</td>\n",
       "      <td>2.58</td>\n",
       "      <td>18.0</td>\n",
       "      <td>94</td>\n",
       "      <td>2.20</td>\n",
       "      <td>2.21</td>\n",
       "      <td>0.22</td>\n",
       "      <td>2.35</td>\n",
       "      <td>3.05</td>\n",
       "      <td>0.79</td>\n",
       "      <td>3.08</td>\n",
       "      <td>520</td>\n",
       "      <td>2</td>\n",
       "    </tr>\n",
       "    <tr>\n",
       "      <th>18</th>\n",
       "      <td>14.19</td>\n",
       "      <td>1.59</td>\n",
       "      <td>2.48</td>\n",
       "      <td>16.5</td>\n",
       "      <td>108</td>\n",
       "      <td>3.30</td>\n",
       "      <td>3.93</td>\n",
       "      <td>0.32</td>\n",
       "      <td>1.86</td>\n",
       "      <td>8.70</td>\n",
       "      <td>1.23</td>\n",
       "      <td>2.82</td>\n",
       "      <td>1680</td>\n",
       "      <td>0</td>\n",
       "    </tr>\n",
       "    <tr>\n",
       "      <th>136</th>\n",
       "      <td>12.25</td>\n",
       "      <td>4.72</td>\n",
       "      <td>2.54</td>\n",
       "      <td>21.0</td>\n",
       "      <td>89</td>\n",
       "      <td>1.38</td>\n",
       "      <td>0.47</td>\n",
       "      <td>0.53</td>\n",
       "      <td>0.80</td>\n",
       "      <td>3.85</td>\n",
       "      <td>0.75</td>\n",
       "      <td>1.27</td>\n",
       "      <td>720</td>\n",
       "      <td>1</td>\n",
       "    </tr>\n",
       "  </tbody>\n",
       "</table>\n",
       "</div>"
      ],
      "text/plain": [
       "     Alcohol  Malic_Acid   Ash  Ash_Alcanity  Magnesium  Total_Phenols  \\\n",
       "116    11.82        1.47  1.99          20.8         86           1.98   \n",
       "121    11.56        2.05  3.23          28.5        119           3.18   \n",
       "84     11.84        0.89  2.58          18.0         94           2.20   \n",
       "18     14.19        1.59  2.48          16.5        108           3.30   \n",
       "136    12.25        4.72  2.54          21.0         89           1.38   \n",
       "\n",
       "     Flavanoids  Nonflavanoid_Phenols  Proanthocyanins  Color_Intensity   Hue  \\\n",
       "116        1.60                  0.30             1.53             1.95  0.95   \n",
       "121        5.08                  0.47             1.87             6.00  0.93   \n",
       "84         2.21                  0.22             2.35             3.05  0.79   \n",
       "18         3.93                  0.32             1.86             8.70  1.23   \n",
       "136        0.47                  0.53             0.80             3.85  0.75   \n",
       "\n",
       "     OD280  Proline  Cluster  \n",
       "116   3.33      495        2  \n",
       "121   3.69      465        0  \n",
       "84    3.08      520        2  \n",
       "18    2.82     1680        0  \n",
       "136   1.27      720        1  "
      ]
     },
     "execution_count": 15,
     "metadata": {},
     "output_type": "execute_result"
    }
   ],
   "source": [
    "clustering=KMeans(n_clusters=3,random_state=484)\n",
    "clustering.fit(X_r)\n",
    "df[\"Cluster\"]=clustering.labels_\n",
    "df.sample(5)"
   ]
  },
  {
   "cell_type": "markdown",
   "metadata": {
    "papermill": {
     "duration": 0.033551,
     "end_time": "2021-04-21T22:14:23.098201",
     "exception": false,
     "start_time": "2021-04-21T22:14:23.064650",
     "status": "completed"
    },
    "tags": []
   },
   "source": [
    "**Reducing our components into two** so we can plot them with Matplotlib"
   ]
  },
  {
   "cell_type": "code",
   "execution_count": 16,
   "metadata": {
    "execution": {
     "iopub.execute_input": "2021-04-21T22:14:23.182235Z",
     "iopub.status.busy": "2021-04-21T22:14:23.181571Z",
     "iopub.status.idle": "2021-04-21T22:14:23.187969Z",
     "shell.execute_reply": "2021-04-21T22:14:23.188740Z"
    },
    "papermill": {
     "duration": 0.055615,
     "end_time": "2021-04-21T22:14:23.188990",
     "exception": false,
     "start_time": "2021-04-21T22:14:23.133375",
     "status": "completed"
    },
    "tags": []
   },
   "outputs": [
    {
     "data": {
      "text/html": [
       "<div>\n",
       "<style scoped>\n",
       "    .dataframe tbody tr th:only-of-type {\n",
       "        vertical-align: middle;\n",
       "    }\n",
       "\n",
       "    .dataframe tbody tr th {\n",
       "        vertical-align: top;\n",
       "    }\n",
       "\n",
       "    .dataframe thead th {\n",
       "        text-align: right;\n",
       "    }\n",
       "</style>\n",
       "<table border=\"1\" class=\"dataframe\">\n",
       "  <thead>\n",
       "    <tr style=\"text-align: right;\">\n",
       "      <th></th>\n",
       "      <th>Comp_1</th>\n",
       "      <th>Comp_2</th>\n",
       "      <th>Cluster</th>\n",
       "    </tr>\n",
       "  </thead>\n",
       "  <tbody>\n",
       "    <tr>\n",
       "      <th>137</th>\n",
       "      <td>3.915863</td>\n",
       "      <td>-0.833812</td>\n",
       "      <td>1</td>\n",
       "    </tr>\n",
       "    <tr>\n",
       "      <th>46</th>\n",
       "      <td>-2.469129</td>\n",
       "      <td>-0.631872</td>\n",
       "      <td>0</td>\n",
       "    </tr>\n",
       "    <tr>\n",
       "      <th>84</th>\n",
       "      <td>-1.099125</td>\n",
       "      <td>0.606236</td>\n",
       "      <td>2</td>\n",
       "    </tr>\n",
       "    <tr>\n",
       "      <th>50</th>\n",
       "      <td>-3.199566</td>\n",
       "      <td>-0.159679</td>\n",
       "      <td>0</td>\n",
       "    </tr>\n",
       "    <tr>\n",
       "      <th>72</th>\n",
       "      <td>0.739615</td>\n",
       "      <td>1.544637</td>\n",
       "      <td>2</td>\n",
       "    </tr>\n",
       "  </tbody>\n",
       "</table>\n",
       "</div>"
      ],
      "text/plain": [
       "       Comp_1    Comp_2  Cluster\n",
       "137  3.915863 -0.833812        1\n",
       "46  -2.469129 -0.631872        0\n",
       "84  -1.099125  0.606236        2\n",
       "50  -3.199566 -0.159679        0\n",
       "72   0.739615  1.544637        2"
      ]
     },
     "execution_count": 16,
     "metadata": {},
     "output_type": "execute_result"
    }
   ],
   "source": [
    "pca=PCA(n_components=2, random_state=684)\n",
    "X_r=pca.fit(x_train).transform(x_train)\n",
    "\n",
    "compstempdf=pd.DataFrame(data=X_r,columns=[\"Comp_1\", \"Comp_2\"])\n",
    "compsdf=pd.concat([compstempdf,df[[\"Cluster\"]]],axis=1)\n",
    "compsdf.sample(5)\n"
   ]
  },
  {
   "cell_type": "markdown",
   "metadata": {
    "papermill": {
     "duration": 0.035941,
     "end_time": "2021-04-21T22:14:23.262524",
     "exception": false,
     "start_time": "2021-04-21T22:14:23.226583",
     "status": "completed"
    },
    "tags": []
   },
   "source": [
    "Finally, **our wines are now clustered in three distinct groups** that we can see in the following plot."
   ]
  },
  {
   "cell_type": "code",
   "execution_count": 17,
   "metadata": {
    "execution": {
     "iopub.execute_input": "2021-04-21T22:14:23.341338Z",
     "iopub.status.busy": "2021-04-21T22:14:23.340689Z",
     "iopub.status.idle": "2021-04-21T22:14:23.524297Z",
     "shell.execute_reply": "2021-04-21T22:14:23.523724Z"
    },
    "papermill": {
     "duration": 0.223685,
     "end_time": "2021-04-21T22:14:23.524433",
     "exception": false,
     "start_time": "2021-04-21T22:14:23.300748",
     "status": "completed"
    },
    "tags": []
   },
   "outputs": [
    {
     "data": {
      "image/png": "[encoded data removed]",
      "text/plain": [
       "<Figure size 576x576 with 1 Axes>"
      ]
     },
     "metadata": {
      "needs_background": "light"
     },
     "output_type": "display_data"
    }
   ],
   "source": [
    "fig=plt.figure(figsize=(8,8))\n",
    "ax2=fig.add_subplot(1,1,1)\n",
    "ax2.set_title(\"Principal Components\")\n",
    "ax2.set_xlabel(\"Comp 1\")\n",
    "ax2.set_ylabel(\"Comp 2\")\n",
    "color_theme=np.array([\"royalblue\",\"springgreen\",\"gold\"])\n",
    "ax2.scatter(x=compsdf.Comp_1,y=compsdf.Comp_2,c=color_theme[compsdf.Cluster],s=30)\n",
    "plt.show()"
   ]
  },
  {
   "cell_type": "code",
   "execution_count": null,
   "metadata": {
    "papermill": {
     "duration": 0.038163,
     "end_time": "2021-04-21T22:14:23.601000",
     "exception": false,
     "start_time": "2021-04-21T22:14:23.562837",
     "status": "completed"
    },
    "tags": []
   },
   "outputs": [],
   "source": []
  }
 ],
 "metadata": {
  "kernelspec": {
   "display_name": "Python 3",
   "language": "python",
   "name": "python3"
  },
  "language_info": {
   "codemirror_mode": {
    "name": "ipython",
    "version": 3
   },
   "file_extension": ".py",
   "mimetype": "text/x-python",
   "name": "python",
   "nbconvert_exporter": "python",
   "pygments_lexer": "ipython3",
   "version": "3.7.6"
  },
  "papermill": {
   "duration": 19.889739,
   "end_time": "2021-04-21T22:14:23.747513",
   "environment_variables": {},
   "exception": null,
   "input_path": "__notebook__.ipynb",
   "output_path": "__notebook__.ipynb",
   "parameters": {},
   "start_time": "2021-04-21T22:14:03.857774",
   "version": "2.1.0"
  }
 },
 "nbformat": 4,
 "nbformat_minor": 4
}
